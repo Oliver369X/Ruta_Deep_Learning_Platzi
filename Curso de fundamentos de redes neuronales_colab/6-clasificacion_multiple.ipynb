{
 "cells": [
  {
   "cell_type": "markdown",
   "metadata": {},
   "source": [
    "# Resolviendo un problema de clasificación múltiple"
   ]
  },
  {
   "cell_type": "code",
   "execution_count": 1,
   "metadata": {},
   "outputs": [],
   "source": [
    "import numpy as np\n",
    "from tensorflow.keras import layers, models\n",
    "from tensorflow.keras.datasets import reuters\n"
   ]
  },
  {
   "cell_type": "code",
   "execution_count": 2,
   "metadata": {},
   "outputs": [],
   "source": [
    "(train_data, train_labels), (test_data, test_labels) = reuters.load_data(num_words=10_000)"
   ]
  },
  {
   "cell_type": "code",
   "execution_count": 3,
   "metadata": {},
   "outputs": [
    {
     "data": {
      "text/plain": [
       "(8982,)"
      ]
     },
     "execution_count": 3,
     "metadata": {},
     "output_type": "execute_result"
    }
   ],
   "source": [
    "train_data.shape"
   ]
  },
  {
   "cell_type": "code",
   "execution_count": 4,
   "metadata": {},
   "outputs": [
    {
     "data": {
      "text/plain": [
       "[1, 2, 2, 8, 43, 10, 447, 5, 25, 207]"
      ]
     },
     "execution_count": 4,
     "metadata": {},
     "output_type": "execute_result"
    }
   ],
   "source": [
    "train_data[0][:10]\n"
   ]
  },
  {
   "cell_type": "code",
   "execution_count": 5,
   "metadata": {},
   "outputs": [
    {
     "name": "stdout",
     "output_type": "stream",
     "text": [
      "None\n",
      "None\n",
      "None\n",
      "said\n",
      "as\n",
      "a\n",
      "result\n",
      "of\n",
      "its\n",
      "december\n",
      "acquisition\n",
      "of\n",
      "space\n",
      "co\n",
      "it\n",
      "expects\n",
      "earnings\n",
      "per\n",
      "share\n",
      "in\n",
      "1987\n",
      "of\n",
      "1\n",
      "15\n",
      "to\n",
      "1\n",
      "30\n",
      "dlrs\n",
      "per\n",
      "share\n",
      "up\n",
      "from\n",
      "70\n",
      "cts\n",
      "in\n",
      "1986\n",
      "the\n",
      "company\n",
      "said\n",
      "pretax\n",
      "net\n",
      "should\n",
      "rise\n",
      "to\n",
      "nine\n",
      "to\n",
      "10\n",
      "mln\n",
      "dlrs\n",
      "from\n",
      "six\n",
      "mln\n",
      "dlrs\n",
      "in\n",
      "1986\n",
      "and\n",
      "rental\n",
      "operation\n",
      "revenues\n",
      "to\n",
      "19\n",
      "to\n",
      "22\n",
      "mln\n",
      "dlrs\n",
      "from\n",
      "12\n",
      "5\n",
      "mln\n",
      "dlrs\n",
      "it\n",
      "said\n",
      "cash\n",
      "flow\n",
      "per\n",
      "share\n",
      "this\n",
      "year\n",
      "should\n",
      "be\n",
      "2\n",
      "50\n",
      "to\n",
      "three\n",
      "dlrs\n",
      "reuter\n",
      "3\n"
     ]
    }
   ],
   "source": [
    "word_index = reuters.get_word_index()\n",
    "word_index = dict([(value, key) for (key, value) in word_index.items()])\n",
    "for _ in train_data[0]:\n",
    "  # las primeras 3 palabras del word index son palabras reservadas\n",
    "  print(word_index.get(_ - 3))\n"
   ]
  },
  {
   "cell_type": "code",
   "execution_count": 6,
   "metadata": {},
   "outputs": [
    {
     "data": {
      "text/plain": [
       "3"
      ]
     },
     "execution_count": 6,
     "metadata": {},
     "output_type": "execute_result"
    }
   ],
   "source": [
    "train_labels[0]\n"
   ]
  },
  {
   "cell_type": "code",
   "execution_count": 7,
   "metadata": {},
   "outputs": [],
   "source": [
    "# debemos volver la lista del dataset\n",
    "# a tensores para que la red los pueda entender\n",
    "def vectorize(sequences, dim=10000):\n",
    "  results = np.zeros((len(sequences), dim))\n",
    "  for i, sequences in enumerate(sequences):\n",
    "    results[i, sequences] = 1\n",
    "  return results\n"
   ]
  },
  {
   "cell_type": "code",
   "execution_count": 8,
   "metadata": {},
   "outputs": [],
   "source": [
    "x_train = vectorize(train_data)\n",
    "x_test = vectorize(test_data)\n"
   ]
  },
  {
   "cell_type": "code",
   "execution_count": 9,
   "metadata": {},
   "outputs": [],
   "source": [
    "from tensorflow.keras.utils import to_categorical\n"
   ]
  },
  {
   "cell_type": "code",
   "execution_count": 10,
   "metadata": {},
   "outputs": [],
   "source": [
    "y_train = to_categorical(train_labels)\n",
    "y_test = to_categorical(test_labels)"
   ]
  },
  {
   "cell_type": "code",
   "execution_count": 11,
   "metadata": {},
   "outputs": [
    {
     "data": {
      "text/plain": [
       "array([0., 0., 0., 1., 0., 0., 0., 0., 0., 0., 0., 0., 0., 0., 0., 0., 0.,\n",
       "       0., 0., 0., 0., 0., 0., 0., 0., 0., 0., 0., 0., 0., 0., 0., 0., 0.,\n",
       "       0., 0., 0., 0., 0., 0., 0., 0., 0., 0., 0., 0.], dtype=float32)"
      ]
     },
     "execution_count": 11,
     "metadata": {},
     "output_type": "execute_result"
    }
   ],
   "source": [
    "y_train[0]"
   ]
  },
  {
   "cell_type": "code",
   "execution_count": 12,
   "metadata": {},
   "outputs": [],
   "source": [
    "model = models.Sequential()\n",
    "\n",
    "model.add(\n",
    "  layers.Dense(\n",
    "    64,\n",
    "    activation='relu',\n",
    "    input_shape=(10000,)\n",
    "  )\n",
    ")\n",
    "model.add(\n",
    "  layers.Dense(\n",
    "    64,\n",
    "    activation='relu'\n",
    "  )\n",
    ")\n",
    "\n",
    "\"\"\"\n",
    "No usamos sigmoid porque la relacion binaria de 0 a 1 no me permitiria\n",
    "realizar clasificacion multiple\n",
    "\n",
    "en su lugar la funcion sigmoid, con una relacion de -1 a 1 nos permite\n",
    "clasificar cada una de las posibles salidas sin importar la cantidad\n",
    "en base a la relacion de ser y no ser una categoria\n",
    "\"\"\"\n",
    "model.add(\n",
    "  layers.Dense(\n",
    "    46,\n",
    "    activation='softmax'\n",
    "  )\n",
    ")"
   ]
  },
  {
   "cell_type": "code",
   "execution_count": 13,
   "metadata": {},
   "outputs": [],
   "source": [
    "model.compile(\n",
    "  optimizer='rmsprop',\n",
    "  loss='categorical_crossentropy',\n",
    "  metrics=['accuracy']\n",
    ")"
   ]
  },
  {
   "cell_type": "code",
   "execution_count": 14,
   "metadata": {},
   "outputs": [],
   "source": [
    "x_val = x_train[:1000]\n",
    "partial_x_train = x_train[1000:]\n",
    "\n",
    "y_val = y_train[:1000]\n",
    "partial_y_train = y_train[1000:]"
   ]
  },
  {
   "cell_type": "markdown",
   "metadata": {},
   "source": [
    "# Entrenamiento del modelo de clasificación múltiple"
   ]
  },
  {
   "cell_type": "code",
   "execution_count": 15,
   "metadata": {},
   "outputs": [
    {
     "name": "stdout",
     "output_type": "stream",
     "text": [
      "Epoch 1/9\n",
      "16/16 [==============================] - 1s 19ms/step - loss: 2.5528 - accuracy: 0.5446 - val_loss: 1.6447 - val_accuracy: 0.6650\n",
      "Epoch 2/9\n",
      "16/16 [==============================] - 0s 9ms/step - loss: 1.3698 - accuracy: 0.7175 - val_loss: 1.2758 - val_accuracy: 0.7190\n",
      "Epoch 3/9\n",
      "16/16 [==============================] - 0s 9ms/step - loss: 1.0284 - accuracy: 0.7805 - val_loss: 1.1231 - val_accuracy: 0.7550\n",
      "Epoch 4/9\n",
      "16/16 [==============================] - 0s 9ms/step - loss: 0.8167 - accuracy: 0.8275 - val_loss: 1.0385 - val_accuracy: 0.7810\n",
      "Epoch 5/9\n",
      "16/16 [==============================] - 0s 9ms/step - loss: 0.6544 - accuracy: 0.8621 - val_loss: 0.9701 - val_accuracy: 0.7930\n",
      "Epoch 6/9\n",
      "16/16 [==============================] - 0s 9ms/step - loss: 0.5277 - accuracy: 0.8891 - val_loss: 0.9577 - val_accuracy: 0.7920\n",
      "Epoch 7/9\n",
      "16/16 [==============================] - 0s 9ms/step - loss: 0.4317 - accuracy: 0.9105 - val_loss: 0.9113 - val_accuracy: 0.8090\n",
      "Epoch 8/9\n",
      "16/16 [==============================] - 0s 9ms/step - loss: 0.3453 - accuracy: 0.9266 - val_loss: 0.8972 - val_accuracy: 0.8200\n",
      "Epoch 9/9\n",
      "16/16 [==============================] - 0s 8ms/step - loss: 0.2912 - accuracy: 0.9336 - val_loss: 0.9030 - val_accuracy: 0.8130\n"
     ]
    }
   ],
   "source": [
    "history = model.fit(partial_x_train, partial_y_train,\n",
    "          epochs=9,\n",
    "          batch_size=512,\n",
    "          validation_data=(x_val, y_val))"
   ]
  },
  {
   "cell_type": "code",
   "execution_count": 16,
   "metadata": {},
   "outputs": [],
   "source": [
    "import matplotlib.pyplot as plt"
   ]
  },
  {
   "cell_type": "code",
   "execution_count": 17,
   "metadata": {},
   "outputs": [],
   "source": [
    "def showHistoryError(history):\n",
    "  # print(history.history)\n",
    "  loss_vals = history.history['loss']\n",
    "  val_loss_vals = history.history['val_loss']\n",
    "\n",
    "  fig = plt.figure(figsize=(10,10))\n",
    "  epochs = range(1, len(loss_vals) + 1)\n",
    "  plt.plot(epochs, loss_vals, 'o', label='training')\n",
    "  plt.plot(epochs, val_loss_vals, '--', label='validation')\n",
    "  plt.legend()\n",
    "  plt.show()\n"
   ]
  },
  {
   "cell_type": "code",
   "execution_count": 18,
   "metadata": {},
   "outputs": [],
   "source": [
    "def showHistoryAccuracy(history):\n",
    "  # print(history.history)\n",
    "  loss_vals = history.history['accuracy']\n",
    "  val_loss_vals = history.history['val_accuracy']\n",
    "\n",
    "  fig = plt.figure(figsize=(10, 10))\n",
    "  epochs = range(1, len(loss_vals) + 1)\n",
    "  plt.plot(epochs, loss_vals, 'o', label='training')\n",
    "  plt.plot(epochs, val_loss_vals, '--', label='validation')\n",
    "  plt.legend()\n",
    "  plt.show()\n"
   ]
  },
  {
   "cell_type": "markdown",
   "metadata": {},
   "source": [
    "Como pudimos ver con 30 epocas el accuracy llegaba cerca de un 70% aun asi en la grafica vimos quen su accuracy mas alto se acercaba cerca de la epoca 9 por lo cual si reducimos las epocas a nuevo obtenemos un accuracy de 79%"
   ]
  },
  {
   "cell_type": "code",
   "execution_count": 19,
   "metadata": {},
   "outputs": [
    {
     "data": {
      "image/png": "[encoded data removed]",
      "text/plain": [
       "<Figure size 720x720 with 1 Axes>"
      ]
     },
     "metadata": {
      "needs_background": "light"
     },
     "output_type": "display_data"
    }
   ],
   "source": [
    "showHistoryError(history)"
   ]
  },
  {
   "cell_type": "code",
   "execution_count": 20,
   "metadata": {},
   "outputs": [
    {
     "data": {
      "image/png": "[encoded data removed]",
      "text/plain": [
       "<Figure size 720x720 with 1 Axes>"
      ]
     },
     "metadata": {
      "needs_background": "light"
     },
     "output_type": "display_data"
    }
   ],
   "source": [
    "showHistoryAccuracy(history)\n"
   ]
  },
  {
   "cell_type": "code",
   "execution_count": 21,
   "metadata": {},
   "outputs": [
    {
     "name": "stdout",
     "output_type": "stream",
     "text": [
      "71/71 [==============================] - 0s 2ms/step - loss: 1.0099 - accuracy: 0.7836\n"
     ]
    },
    {
     "data": {
      "text/plain": [
       "[1.0098659992218018, 0.7836152911186218]"
      ]
     },
     "execution_count": 21,
     "metadata": {},
     "output_type": "execute_result"
    }
   ],
   "source": [
    "model.evaluate(x_test, y_test)"
   ]
  },
  {
   "cell_type": "code",
   "execution_count": 22,
   "metadata": {},
   "outputs": [],
   "source": [
    "predictions = model.predict(x_test)"
   ]
  },
  {
   "cell_type": "code",
   "execution_count": 23,
   "metadata": {},
   "outputs": [
    {
     "data": {
      "text/plain": [
       "array([2.9325721e-04, 7.1733819e-05, 8.6196742e-05, 8.0336392e-01,\n",
       "       1.5271604e-01, 4.2457657e-05, 5.1191979e-05, 1.2974422e-04,\n",
       "       4.5451308e-03, 1.4768472e-04, 7.9719568e-05, 5.6059803e-03,\n",
       "       8.2440733e-04, 2.0697608e-03, 1.9151359e-04, 1.2053825e-04,\n",
       "       2.7450477e-03, 3.7661329e-04, 6.9726509e-04, 6.7816554e-03,\n",
       "       3.7108681e-03, 2.9846994e-04, 4.6626324e-04, 4.7027701e-04,\n",
       "       1.4012283e-05, 1.2286351e-04, 6.1654900e-06, 1.2813578e-03,\n",
       "       1.4719806e-04, 4.0688645e-04, 5.3342857e-04, 6.1631651e-04,\n",
       "       1.3747808e-04, 3.7413723e-05, 5.3588778e-04, 2.5178527e-04,\n",
       "       9.0954090e-03, 3.7547754e-04, 2.3605095e-05, 2.8218440e-04,\n",
       "       3.5131096e-05, 1.7958786e-05, 2.5631985e-05, 1.5000984e-04,\n",
       "       1.2857327e-05, 5.2515402e-06], dtype=float32)"
      ]
     },
     "execution_count": 23,
     "metadata": {},
     "output_type": "execute_result"
    }
   ],
   "source": [
    "predictions[0]"
   ]
  },
  {
   "cell_type": "code",
   "execution_count": 24,
   "metadata": {},
   "outputs": [
    {
     "data": {
      "text/plain": [
       "1.0"
      ]
     },
     "execution_count": 24,
     "metadata": {},
     "output_type": "execute_result"
    }
   ],
   "source": [
    "np.sum(predictions[0])"
   ]
  },
  {
   "cell_type": "code",
   "execution_count": 25,
   "metadata": {},
   "outputs": [
    {
     "data": {
      "text/plain": [
       "3"
      ]
     },
     "execution_count": 25,
     "metadata": {},
     "output_type": "execute_result"
    }
   ],
   "source": [
    "# el valor predicho es el que posee el valor mas alto es decir\n",
    "# el modelo aprendio que ese es el punto al que mas se acerca el valor\n",
    "np.argmax(predictions[0])\n"
   ]
  },
  {
   "cell_type": "markdown",
   "metadata": {},
   "source": [
    "## Reto\n",
    "\n",
    "utilizar dropout, regularizacion, reduccion de la red y las practicas aprendidas para mejorar la red"
   ]
  },
  {
   "cell_type": "code",
   "execution_count": 29,
   "metadata": {},
   "outputs": [],
   "source": [
    "from keras import regularizers\n"
   ]
  },
  {
   "cell_type": "code",
   "execution_count": 56,
   "metadata": {},
   "outputs": [
    {
     "name": "stdout",
     "output_type": "stream",
     "text": [
      "Epoch 1/14\n",
      "32/32 [==============================] - 1s 11ms/step - loss: 3.6277 - accuracy: 0.3423 - val_loss: 2.5483 - val_accuracy: 0.5510\n",
      "Epoch 2/14\n",
      "32/32 [==============================] - 0s 6ms/step - loss: 2.5398 - accuracy: 0.5074 - val_loss: 2.1548 - val_accuracy: 0.6120\n",
      "Epoch 3/14\n",
      "32/32 [==============================] - 0s 6ms/step - loss: 2.2288 - accuracy: 0.5763 - val_loss: 1.9702 - val_accuracy: 0.6500\n",
      "Epoch 4/14\n",
      "32/32 [==============================] - 0s 5ms/step - loss: 2.0538 - accuracy: 0.6075 - val_loss: 1.8327 - val_accuracy: 0.6790\n",
      "Epoch 5/14\n",
      "32/32 [==============================] - 0s 6ms/step - loss: 1.9236 - accuracy: 0.6324 - val_loss: 1.7537 - val_accuracy: 0.6890\n",
      "Epoch 6/14\n",
      "32/32 [==============================] - 0s 6ms/step - loss: 1.8380 - accuracy: 0.6502 - val_loss: 1.6827 - val_accuracy: 0.7020\n",
      "Epoch 7/14\n",
      "32/32 [==============================] - 0s 5ms/step - loss: 1.7706 - accuracy: 0.6659 - val_loss: 1.6215 - val_accuracy: 0.7040\n",
      "Epoch 8/14\n",
      "32/32 [==============================] - 0s 5ms/step - loss: 1.7304 - accuracy: 0.6763 - val_loss: 1.5922 - val_accuracy: 0.7040\n",
      "Epoch 9/14\n",
      "32/32 [==============================] - 0s 5ms/step - loss: 1.6749 - accuracy: 0.6778 - val_loss: 1.5728 - val_accuracy: 0.7030\n",
      "Epoch 10/14\n",
      "32/32 [==============================] - 0s 6ms/step - loss: 1.6441 - accuracy: 0.6843 - val_loss: 1.5429 - val_accuracy: 0.7020\n",
      "Epoch 11/14\n",
      "32/32 [==============================] - 0s 5ms/step - loss: 1.6251 - accuracy: 0.6891 - val_loss: 1.5128 - val_accuracy: 0.7060\n",
      "Epoch 12/14\n",
      "32/32 [==============================] - 0s 5ms/step - loss: 1.5951 - accuracy: 0.6926 - val_loss: 1.5044 - val_accuracy: 0.7060\n",
      "Epoch 13/14\n",
      "32/32 [==============================] - 0s 5ms/step - loss: 1.5833 - accuracy: 0.6922 - val_loss: 1.4859 - val_accuracy: 0.7090\n",
      "Epoch 14/14\n",
      "32/32 [==============================] - 0s 5ms/step - loss: 1.5524 - accuracy: 0.7018 - val_loss: 1.4767 - val_accuracy: 0.7110\n"
     ]
    }
   ],
   "source": [
    "model = models.Sequential()\n",
    "\n",
    "model.add(\n",
    "    layers.Dense(\n",
    "        64,\n",
    "        activation='relu',\n",
    "        input_shape=(10000,),\n",
    "        kernel_regularizer=regularizers.l2(0.01)\n",
    "    )\n",
    ")\n",
    "\n",
    "model.add(layers.Dropout(0.6))\n",
    "\n",
    "model.add(\n",
    "    layers.Dense(\n",
    "        64,\n",
    "        activation='relu',\n",
    "        kernel_regularizer=regularizers.l2(0.01)\n",
    "    )\n",
    ")\n",
    "\n",
    "model.add(layers.Dropout(0.5))\n",
    "\n",
    "\n",
    "\"\"\"\n",
    "No usamos sigmoid porque la relacion binaria de 0 a 1 no me permitiria\n",
    "realizar clasificacion multiple\n",
    "\n",
    "en su lugar la funcion sigmoid, con una relacion de -1 a 1 nos permite\n",
    "clasificar cada una de las posibles salidas sin importar la cantidad\n",
    "en base a la relacion de ser y no ser una categoria\n",
    "\"\"\"\n",
    "model.add(\n",
    "    layers.Dense(\n",
    "        46,\n",
    "        activation='softmax'\n",
    "    )\n",
    ")\n",
    "\n",
    "model.compile(\n",
    "    optimizer='rmsprop',\n",
    "    loss='categorical_crossentropy',\n",
    "    metrics=['accuracy']\n",
    ")\n",
    "\n",
    "# entrenar el modelo\n",
    "history = model.fit(partial_x_train, partial_y_train,\n",
    "    epochs=14,\n",
    "    batch_size=256,\n",
    "    validation_data=(x_val, y_val)\n",
    ")\n"
   ]
  },
  {
   "cell_type": "markdown",
   "metadata": {},
   "source": [
    "32/32 [==============================] - 0s 5ms/step - loss: 1.4892 - accuracy: 0.7142 - val_loss: 1.4521 - val_accuracy: 0.7130\n",
    "\n",
    "Epoch 13/13\n",
    "32/32 [==============================] - 0s 5ms/step - loss: 1.4521 - accuracy: 0.7291 - val_loss: 1.4314 - val_accuracy: 0.7250"
   ]
  },
  {
   "cell_type": "code",
   "execution_count": 57,
   "metadata": {},
   "outputs": [
    {
     "data": {
      "image/png": "[encoded data removed]",
      "text/plain": [
       "<Figure size 720x720 with 1 Axes>"
      ]
     },
     "metadata": {
      "needs_background": "light"
     },
     "output_type": "display_data"
    }
   ],
   "source": [
    "showHistoryError(history)"
   ]
  },
  {
   "cell_type": "code",
   "execution_count": 58,
   "metadata": {},
   "outputs": [
    {
     "data": {
      "image/png": "[encoded data removed]",
      "text/plain": [
       "<Figure size 720x720 with 1 Axes>"
      ]
     },
     "metadata": {
      "needs_background": "light"
     },
     "output_type": "display_data"
    }
   ],
   "source": [
    "showHistoryAccuracy(history)\n"
   ]
  },
  {
   "cell_type": "code",
   "execution_count": null,
   "metadata": {},
   "outputs": [],
   "source": []
  }
 ],
 "metadata": {
  "kernelspec": {
   "display_name": "Python 3",
   "language": "python",
   "name": "python3"
  },
  "orig_nbformat": 4
 },
 "nbformat": 4,
 "nbformat_minor": 2
}
